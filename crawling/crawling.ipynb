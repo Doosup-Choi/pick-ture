{
 "cells": [
  {
   "cell_type": "code",
   "execution_count": 19,
   "id": "e3a5f783-bf7c-4bc8-8a5d-be56eb309feb",
   "metadata": {},
   "outputs": [],
   "source": [
    "import requests\n",
    "import urllib\n",
    "import json"
   ]
  },
  {
   "cell_type": "code",
   "execution_count": 20,
   "id": "3e06ec40-80e5-4283-9a7f-ca85d52a960b",
   "metadata": {
    "tags": []
   },
   "outputs": [],
   "source": [
    "query = \"그림\" #검색을 원하는 문자열\n",
    "display = \"20\" #기본10 최대1000\n",
    "start = \"1\" #최소1 최대1000\n",
    "sort = \"date\" #정렬 옵션 : sim(유사도), date(날짜순), asc(가격오름차순), dsc(가격내림차순)\n",
    "\n",
    "query = urllib.parse.quote(query)\n",
    "\n",
    "url = \"https://openapi.naver.com/v1/search/shop?query=\" + query + \"&display=\" + display+ \"&start=\" + start + \"&sort=\" + sort \n",
    "\n",
    "client_id = \"ns_lsVeiLXPoagHNyqXD\"\n",
    "client_secret = \"tKVxt4TFYp\"\n",
    "\n",
    "request = urllib.request.Request(url)\n",
    "request.add_header('X-Naver-Client-Id', client_id)\n",
    "request.add_header('X-Naver-Client-Secret', client_secret)\n",
    "\n",
    "response = urllib.request.urlopen(request)\n",
    "results = response.read().decode('utf-8')\n",
    "results_json = json.loads(results)"
   ]
  },
  {
   "cell_type": "code",
   "execution_count": 24,
   "id": "4bcad499-d348-4605-b598-48a09f6980cb",
   "metadata": {},
   "outputs": [
    {
     "data": {
      "text/plain": [
       "'https://shopping-phinf.pstatic.net/main_8357467/83574676357.jpg'"
      ]
     },
     "execution_count": 24,
     "metadata": {},
     "output_type": "execute_result"
    }
   ],
   "source": [
    "url = results_json['items'][0]['image']\n",
    "url"
   ]
  },
  {
   "cell_type": "code",
   "execution_count": 29,
   "id": "69b8a28c-18d9-46a4-a244-e199288a8f4e",
   "metadata": {},
   "outputs": [
    {
     "name": "stdout",
     "output_type": "stream",
     "text": [
      "0.09644103050231934\n"
     ]
    }
   ],
   "source": [
    "import os\n",
    "import time\n",
    "from PIL import Image\n",
    "\n",
    "# 다운받을 이미지 url\n",
    "# url = \"https://dispatch.cdnser.be/cms-content/uploads/2020/04/09/a26f4b7b-9769-49dd-aed3-b7067fbc5a8c.jpg\"\n",
    "\n",
    "# time check\n",
    "start = time.time()\n",
    "\n",
    "# curl 요청\n",
    "os.system(\"curl \" + url + \" > test.jpg\")\n",
    "\n",
    "# 이미지 다운로드 시간 체크\n",
    "print(time.time() - start)\n",
    "\n",
    "# 저장 된 이미지 확인\n",
    "img = Image.open(\"test.jpg\")"
   ]
  },
  {
   "cell_type": "code",
   "execution_count": null,
   "id": "c3e7d095-164c-45fa-a20a-10d307233111",
   "metadata": {},
   "outputs": [],
   "source": []
  },
  {
   "cell_type": "code",
   "execution_count": null,
   "id": "76f6ceee-0832-4394-b42a-8442550c8c28",
   "metadata": {},
   "outputs": [],
   "source": []
  },
  {
   "cell_type": "code",
   "execution_count": null,
   "id": "90f95b97-5ed8-4369-b783-0f176ec98171",
   "metadata": {},
   "outputs": [],
   "source": []
  }
 ],
 "metadata": {
  "kernelspec": {
   "display_name": "Python 3",
   "language": "python",
   "name": "python3"
  },
  "language_info": {
   "codemirror_mode": {
    "name": "ipython",
    "version": 3
   },
   "file_extension": ".py",
   "mimetype": "text/x-python",
   "name": "python",
   "nbconvert_exporter": "python",
   "pygments_lexer": "ipython3",
   "version": "3.8.8"
  }
 },
 "nbformat": 4,
 "nbformat_minor": 5
}
