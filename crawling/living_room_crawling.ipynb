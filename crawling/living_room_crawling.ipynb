{
 "cells": [
  {
   "cell_type": "code",
   "execution_count": 1,
   "id": "323fd38b-8ad3-406a-9377-f256675f1d2a",
   "metadata": {},
   "outputs": [],
   "source": [
    "from selenium import webdriver\n",
    "from bs4 import BeautifulSoup as soups\n",
    "import time"
   ]
  },
  {
   "cell_type": "code",
   "execution_count": 2,
   "id": "2324f103-eef6-49e5-9bfa-e1bc68301f7e",
   "metadata": {},
   "outputs": [],
   "source": [
    "def search_selenium(search_name, search_path, search_limit) :\n",
    "    search_url = \"https://www.google.com/search?q=\" + str(search_name) + \"&hl=ko&tbm=isch\"\n",
    "    \n",
    "    browser = webdriver.Chrome('C:/Users/entjq/Downloads/chromedriver_win32/chromedriver.exe')\n",
    "    browser.get(search_url)\n",
    "    \n",
    "    image_count = len(browser.find_elements_by_tag_name(\"img\"))\n",
    "    if image_count < search_limit:\n",
    "        crawling_count = image_count\n",
    "    else:\n",
    "        crawling_count = search_limit\n",
    "    \n",
    "    print(f\"Crawling Count : {crawling_count}\")\n",
    "    \n",
    "    browser.implicitly_wait(2)\n",
    "\n",
    "    for i in range(crawling_count) :\n",
    "        if i < 20:\n",
    "            continue\n",
    "        image = browser.find_elements_by_tag_name(\"img\")[i]\n",
    "        image.screenshot(f\"{search_path}/{search_name}_{str(i)}.jpg\")\n",
    "        time.sleep(0.1)\n",
    "    browser.close()"
   ]
  },
  {
   "cell_type": "code",
   "execution_count": 4,
   "id": "fe9dbaf9-687f-4bc8-babb-d5615ff53e6b",
   "metadata": {},
   "outputs": [
    {
     "name": "stderr",
     "output_type": "stream",
     "text": [
      "<ipython-input-2-3cb74c94badd>:4: DeprecationWarning: executable_path has been deprecated, please pass in a Service object\n",
      "  browser = webdriver.Chrome('C:/Users/entjq/Downloads/chromedriver_win32/chromedriver.exe')\n",
      "<ipython-input-2-3cb74c94badd>:7: DeprecationWarning: find_elements_by_* commands are deprecated. Please use find_elements() instead\n",
      "  image_count = len(browser.find_elements_by_tag_name(\"img\"))\n",
      "<ipython-input-2-3cb74c94badd>:20: DeprecationWarning: find_elements_by_* commands are deprecated. Please use find_elements() instead\n",
      "  image = browser.find_elements_by_tag_name(\"img\")[i]\n"
     ]
    },
    {
     "name": "stdout",
     "output_type": "stream",
     "text": [
      "Crawling Count : 71\n",
      "Crawling Count : 67\n",
      "Crawling Count : 66\n",
      "Crawling Count : 67\n"
     ]
    }
   ],
   "source": [
    "# search_list = [\"empty living room wall background\", \"living room wall background\", \"white living room wall background\", \"empty living room wall\", \"light living room wall\"]\n",
    "search_list = [\"living room light blue wall\", \"empty light blue wall\", \"empty light blue wall living room\", \"empty light blue wall living\"]\n",
    "for search_name in search_list:\n",
    "    search_name = search_name\n",
    "    search_limit = 500\n",
    "    search_path = \"C:/Users/entjq/Desktop/최두섭/놀이터/workspace/pickture/pick-ture/crawling/living_room_data\"\n",
    "    # search_maybe(search_name, search_limit, search_path)\n",
    "    search_selenium(search_name, search_path, search_limit)"
   ]
  },
  {
   "cell_type": "code",
   "execution_count": null,
   "id": "ada6e925-7930-42c8-a29a-f3a40ec251b0",
   "metadata": {},
   "outputs": [],
   "source": []
  },
  {
   "cell_type": "code",
   "execution_count": null,
   "id": "a1c8960c-11e6-4f06-9539-2ea79cd21f88",
   "metadata": {},
   "outputs": [],
   "source": []
  },
  {
   "cell_type": "code",
   "execution_count": null,
   "id": "3430d0f1-4abd-4b9e-8185-bcbcc45963a3",
   "metadata": {},
   "outputs": [],
   "source": []
  },
  {
   "cell_type": "code",
   "execution_count": null,
   "id": "914efd27-ddbc-49f9-8362-4ead1d10309c",
   "metadata": {},
   "outputs": [],
   "source": []
  },
  {
   "cell_type": "code",
   "execution_count": null,
   "id": "d6f65387-6dd0-4350-a948-57cc2195e0a4",
   "metadata": {},
   "outputs": [],
   "source": []
  },
  {
   "cell_type": "code",
   "execution_count": null,
   "id": "b0449fa0-7df8-4820-9d5a-9400158c0291",
   "metadata": {},
   "outputs": [],
   "source": []
  },
  {
   "cell_type": "code",
   "execution_count": null,
   "id": "b8c8e5ec-369f-49e1-8d0d-c9b4f5174ac7",
   "metadata": {},
   "outputs": [],
   "source": []
  },
  {
   "cell_type": "code",
   "execution_count": null,
   "id": "440ed601-90f7-492f-bf15-2382a0e42d0f",
   "metadata": {},
   "outputs": [],
   "source": []
  }
 ],
 "metadata": {
  "kernelspec": {
   "display_name": "Python 3",
   "language": "python",
   "name": "python3"
  },
  "language_info": {
   "codemirror_mode": {
    "name": "ipython",
    "version": 3
   },
   "file_extension": ".py",
   "mimetype": "text/x-python",
   "name": "python",
   "nbconvert_exporter": "python",
   "pygments_lexer": "ipython3",
   "version": "3.8.8"
  }
 },
 "nbformat": 4,
 "nbformat_minor": 5
}
